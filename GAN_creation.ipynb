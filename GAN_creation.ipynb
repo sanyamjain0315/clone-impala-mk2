{
 "cells": [
  {
   "cell_type": "markdown",
   "metadata": {},
   "source": [
    "# Clone impala mk2"
   ]
  },
  {
   "cell_type": "markdown",
   "metadata": {},
   "source": [
    "## Initialization"
   ]
  },
  {
   "cell_type": "code",
   "execution_count": 54,
   "metadata": {},
   "outputs": [],
   "source": [
    "import numpy as np\n",
    "import matplotlib.pyplot as plt\n",
    "import json\n",
    "import re\n",
    "import pandas as pd\n",
    "import pickle\n",
    "import tensorflow as tf"
   ]
  },
  {
   "cell_type": "code",
   "execution_count": 2,
   "metadata": {},
   "outputs": [],
   "source": [
    "gpu_device = tf.config.list_physical_devices('GPU')[0]\n",
    "tf.config.experimental.set_memory_growth(gpu_device, True)"
   ]
  },
  {
   "cell_type": "markdown",
   "metadata": {},
   "source": [
    "To use gpu while training use this code snippit\n",
    "```\n",
    "with tf.device('/GPU:0'):\n",
    "    # Create your TensorFlow model here\n",
    "    model = tf.keras.Sequential([...])\n",
    "```"
   ]
  },
  {
   "cell_type": "code",
   "execution_count": 44,
   "metadata": {},
   "outputs": [],
   "source": [
    "# Getting the lyrics dataframe\n",
    "df = pd.read_csv(\"corpuses\\\\tame impala lyrics.csv\")\n",
    "df = df.dropna()"
   ]
  },
  {
   "cell_type": "code",
   "execution_count": null,
   "metadata": {},
   "outputs": [],
   "source": [
    "#To Load the tokenizer\n",
    "with open('models\\\\tame_impala_tokenizer.pickle', 'rb') as handle:\n",
    "    tokenizer = pickle.load(handle)\n",
    "    total_words = tokenizer.num_words"
   ]
  },
  {
   "cell_type": "markdown",
   "metadata": {},
   "source": [
    "## Data gathering"
   ]
  },
  {
   "cell_type": "code",
   "execution_count": 12,
   "metadata": {},
   "outputs": [],
   "source": [
    "# genius api auth keys\n",
    "file = open(\"genius_auth.json\")\n",
    "genius_auth = json.load(file)\n",
    "file.close()"
   ]
  },
  {
   "cell_type": "code",
   "execution_count": 13,
   "metadata": {},
   "outputs": [],
   "source": [
    "from lyricsgenius import Genius\n",
    "\n",
    "# API Client\n",
    "genius = Genius(genius_auth['client_access_token'],\n",
    "                verbose=False,\n",
    "                skip_non_songs=True, \n",
    "                excluded_terms=[\"(Remix)\", \"(Live)\"], \n",
    "                remove_section_headers=True)"
   ]
  },
  {
   "cell_type": "code",
   "execution_count": 14,
   "metadata": {},
   "outputs": [],
   "source": [
    "# Getting all the songs\n",
    "songs = genius.search_artist(artist_name=\"Tame Impala\", max_songs=None).songs"
   ]
  },
  {
   "cell_type": "code",
   "execution_count": 15,
   "metadata": {},
   "outputs": [
    {
     "data": {
      "text/plain": [
       "[Song(id, artist, ...),\n",
       " Song(id, artist, ...),\n",
       " Song(id, artist, ...),\n",
       " Song(id, artist, ...),\n",
       " Song(id, artist, ...),\n",
       " Song(id, artist, ...),\n",
       " Song(id, artist, ...),\n",
       " Song(id, artist, ...),\n",
       " Song(id, artist, ...),\n",
       " Song(id, artist, ...),\n",
       " Song(id, artist, ...),\n",
       " Song(id, artist, ...),\n",
       " Song(id, artist, ...),\n",
       " Song(id, artist, ...),\n",
       " Song(id, artist, ...),\n",
       " Song(id, artist, ...),\n",
       " Song(id, artist, ...),\n",
       " Song(id, artist, ...),\n",
       " Song(id, artist, ...),\n",
       " Song(id, artist, ...),\n",
       " Song(id, artist, ...),\n",
       " Song(id, artist, ...),\n",
       " Song(id, artist, ...),\n",
       " Song(id, artist, ...),\n",
       " Song(id, artist, ...),\n",
       " Song(id, artist, ...),\n",
       " Song(id, artist, ...),\n",
       " Song(id, artist, ...),\n",
       " Song(id, artist, ...),\n",
       " Song(id, artist, ...),\n",
       " Song(id, artist, ...),\n",
       " Song(id, artist, ...),\n",
       " Song(id, artist, ...),\n",
       " Song(id, artist, ...),\n",
       " Song(id, artist, ...),\n",
       " Song(id, artist, ...),\n",
       " Song(id, artist, ...),\n",
       " Song(id, artist, ...),\n",
       " Song(id, artist, ...),\n",
       " Song(id, artist, ...),\n",
       " Song(id, artist, ...),\n",
       " Song(id, artist, ...),\n",
       " Song(id, artist, ...),\n",
       " Song(id, artist, ...),\n",
       " Song(id, artist, ...),\n",
       " Song(id, artist, ...),\n",
       " Song(id, artist, ...),\n",
       " Song(id, artist, ...),\n",
       " Song(id, artist, ...),\n",
       " Song(id, artist, ...),\n",
       " Song(id, artist, ...),\n",
       " Song(id, artist, ...),\n",
       " Song(id, artist, ...),\n",
       " Song(id, artist, ...),\n",
       " Song(id, artist, ...),\n",
       " Song(id, artist, ...),\n",
       " Song(id, artist, ...),\n",
       " Song(id, artist, ...),\n",
       " Song(id, artist, ...),\n",
       " Song(id, artist, ...),\n",
       " Song(id, artist, ...),\n",
       " Song(id, artist, ...),\n",
       " Song(id, artist, ...),\n",
       " Song(id, artist, ...),\n",
       " Song(id, artist, ...),\n",
       " Song(id, artist, ...),\n",
       " Song(id, artist, ...),\n",
       " Song(id, artist, ...),\n",
       " Song(id, artist, ...),\n",
       " Song(id, artist, ...),\n",
       " Song(id, artist, ...),\n",
       " Song(id, artist, ...),\n",
       " Song(id, artist, ...),\n",
       " Song(id, artist, ...),\n",
       " Song(id, artist, ...),\n",
       " Song(id, artist, ...),\n",
       " Song(id, artist, ...),\n",
       " Song(id, artist, ...),\n",
       " Song(id, artist, ...),\n",
       " Song(id, artist, ...),\n",
       " Song(id, artist, ...),\n",
       " Song(id, artist, ...),\n",
       " Song(id, artist, ...),\n",
       " Song(id, artist, ...),\n",
       " Song(id, artist, ...),\n",
       " Song(id, artist, ...),\n",
       " Song(id, artist, ...),\n",
       " Song(id, artist, ...),\n",
       " Song(id, artist, ...),\n",
       " Song(id, artist, ...),\n",
       " Song(id, artist, ...),\n",
       " Song(id, artist, ...),\n",
       " Song(id, artist, ...),\n",
       " Song(id, artist, ...),\n",
       " Song(id, artist, ...),\n",
       " Song(id, artist, ...),\n",
       " Song(id, artist, ...),\n",
       " Song(id, artist, ...),\n",
       " Song(id, artist, ...),\n",
       " Song(id, artist, ...),\n",
       " Song(id, artist, ...),\n",
       " Song(id, artist, ...),\n",
       " Song(id, artist, ...),\n",
       " Song(id, artist, ...),\n",
       " Song(id, artist, ...),\n",
       " Song(id, artist, ...),\n",
       " Song(id, artist, ...),\n",
       " Song(id, artist, ...)]"
      ]
     },
     "execution_count": 15,
     "metadata": {},
     "output_type": "execute_result"
    }
   ],
   "source": [
    "songs"
   ]
  },
  {
   "cell_type": "markdown",
   "metadata": {},
   "source": [
    "### Turning the obtained information into a pandas dataframe"
   ]
  },
  {
   "cell_type": "code",
   "execution_count": 16,
   "metadata": {},
   "outputs": [
    {
     "data": {
      "text/plain": [
       "'159 ContributorsTranslationsFrançaisTürkçeEspañolPortuguêsItalianoDeutschThe Less I Know the Better Lyrics\\nSomeone said they left together\\nI ran out the door to get her\\nShe was holding hands with Trevor\\nNot the greatest feeling ever\\nSaid, \"Pull yourself together\\nYou should try your luck with Heather\"\\nThen I heard they slept together\\nOh, the less I know the better\\nThe less I know the better\\n\\nOh, my love, can\\'t you see yourself by my side?\\nNo surprise, when you\\'re on his shoulder like every night\\nOh, my love, can\\'t you see that you\\'re on my mind?\\nDon\\'t suppose you could convince your lover to change his mind\\nSo goodbye\\n\\nShe said, \"It\\'s not now or never\\nWait ten years, we\\'ll be together\"\\nI said, \"Better late than never\\nJust don\\'t make me wait forever\"\\nDon\\'t make me wait forever\\nDon\\'t make me wait forever\\nYou might also like\\nOh, my love, can\\'t you see yourself by my side?\\nI don\\'t suppose you could convince your lover to change his mind\\n\\nI was doing fine without ya\\n\\'Til I saw your face, now I can\\'t erase\\nGivin\\' in to all his bullshit\\nIs this what you want? Is this who you are?\\nI was doing fine without ya\\n\\'Til I saw your eyes turn away from mine\\nOh, sweet darling, where he wants you\\nSaid, \"Come on, Superman, say your stupid line\"\\nSaid, \"Come on, Superman, say your stupid line\"\\nSaid, \"Come on, Superman, say your stupid line\"206Embed'"
      ]
     },
     "execution_count": 16,
     "metadata": {},
     "output_type": "execute_result"
    }
   ],
   "source": [
    "songs[0].lyrics"
   ]
  },
  {
   "cell_type": "code",
   "execution_count": 43,
   "metadata": {},
   "outputs": [],
   "source": [
    "data = {\n",
    "    \"id\":[],\n",
    "    \"artist\":[],\n",
    "    \"title\":[],\n",
    "    \"lyrics\":[]\n",
    "}\n",
    "\n",
    "# Iterating through the list\n",
    "for song in songs:\n",
    "    if not song:\n",
    "        continue\n",
    "    data[\"id\"].append(song.id)\n",
    "    data[\"artist\"].append(song.artist)\n",
    "    data[\"title\"].append(song.title)\n",
    "\n",
    "    # Preprocessing the lyrics to remove watermarks\n",
    "    song_lyrics = song.lyrics\n",
    "    ## Getting rid of the first line (shows song metadata)\n",
    "    song_lyrics = re.sub(r'^.*?Lyrics','',song_lyrics)\n",
    "    ## Removing the watermark in the last line\n",
    "    song_lyrics = re.sub(r'(You might also like)?(\\d*)?Embed','',song_lyrics, flags=re.IGNORECASE)\n",
    "    ## Splitting the lyrics by line\n",
    "    song_lyrics = song_lyrics.splitlines()\n",
    "    ##Removing empty lines\n",
    "    song_lyrics = list(filter(None, song_lyrics))\n",
    "    ## Joining back lines\n",
    "    song_lyrics = '\\n'.join(song_lyrics)\n",
    "\n",
    "    data[\"lyrics\"].append(song_lyrics)\n",
    "    \n",
    "\n",
    "# Turning into dataframe\n",
    "df = pd.DataFrame(data)\n",
    "df.to_csv('corpuses\\\\tame impala lyrics.csv', index=False)"
   ]
  },
  {
   "cell_type": "code",
   "execution_count": 41,
   "metadata": {},
   "outputs": [
    {
     "data": {
      "text/html": [
       "<div>\n",
       "<style scoped>\n",
       "    .dataframe tbody tr th:only-of-type {\n",
       "        vertical-align: middle;\n",
       "    }\n",
       "\n",
       "    .dataframe tbody tr th {\n",
       "        vertical-align: top;\n",
       "    }\n",
       "\n",
       "    .dataframe thead th {\n",
       "        text-align: right;\n",
       "    }\n",
       "</style>\n",
       "<table border=\"1\" class=\"dataframe\">\n",
       "  <thead>\n",
       "    <tr style=\"text-align: right;\">\n",
       "      <th></th>\n",
       "      <th>id</th>\n",
       "      <th>artist</th>\n",
       "      <th>title</th>\n",
       "      <th>lyrics</th>\n",
       "    </tr>\n",
       "  </thead>\n",
       "  <tbody>\n",
       "    <tr>\n",
       "      <th>0</th>\n",
       "      <td>2165830</td>\n",
       "      <td>Tame Impala</td>\n",
       "      <td>The Less I Know the Better</td>\n",
       "      <td>Someone said they left together\\nI ran out the...</td>\n",
       "    </tr>\n",
       "    <tr>\n",
       "      <th>1</th>\n",
       "      <td>2165813</td>\n",
       "      <td>Tame Impala</td>\n",
       "      <td>New Person, Same Old Mistakes</td>\n",
       "      <td>I can just hear them now\\n\"How could you let u...</td>\n",
       "    </tr>\n",
       "    <tr>\n",
       "      <th>2</th>\n",
       "      <td>721026</td>\n",
       "      <td>Tame Impala</td>\n",
       "      <td>Let It Happen</td>\n",
       "      <td>It's always around me, all this noise\\nBut not...</td>\n",
       "    </tr>\n",
       "    <tr>\n",
       "      <th>3</th>\n",
       "      <td>2165828</td>\n",
       "      <td>Tame Impala</td>\n",
       "      <td>Yes I’m Changing</td>\n",
       "      <td>I was raging, it was late\\nIn the world my dem...</td>\n",
       "    </tr>\n",
       "    <tr>\n",
       "      <th>4</th>\n",
       "      <td>94120</td>\n",
       "      <td>Tame Impala</td>\n",
       "      <td>Feels Like We Only Go Backwards</td>\n",
       "      <td>It feels like I only go backwards, baby\\nEvery...</td>\n",
       "    </tr>\n",
       "  </tbody>\n",
       "</table>\n",
       "</div>"
      ],
      "text/plain": [
       "        id       artist                            title  \\\n",
       "0  2165830  Tame Impala       The Less I Know the Better   \n",
       "1  2165813  Tame Impala    New Person, Same Old Mistakes   \n",
       "2   721026  Tame Impala                    Let It Happen   \n",
       "3  2165828  Tame Impala                 Yes I’m Changing   \n",
       "4    94120  Tame Impala  Feels Like We Only Go Backwards   \n",
       "\n",
       "                                              lyrics  \n",
       "0  Someone said they left together\\nI ran out the...  \n",
       "1  I can just hear them now\\n\"How could you let u...  \n",
       "2  It's always around me, all this noise\\nBut not...  \n",
       "3  I was raging, it was late\\nIn the world my dem...  \n",
       "4  It feels like I only go backwards, baby\\nEvery...  "
      ]
     },
     "execution_count": 41,
     "metadata": {},
     "output_type": "execute_result"
    }
   ],
   "source": [
    "df = pd.read_csv(\"corpuses\\\\tame impala lyrics.csv\")\n",
    "df.head()"
   ]
  },
  {
   "cell_type": "markdown",
   "metadata": {},
   "source": [
    "## Tokenizer creation"
   ]
  },
  {
   "cell_type": "code",
   "execution_count": 50,
   "metadata": {},
   "outputs": [],
   "source": [
    "# Joining all lines of lyrics into one single list\n",
    "lyrics_corpus = []\n",
    "for song_lryics in df['lyrics']:\n",
    "    # Splitting the lyrics by line\n",
    "    song_lryics = song_lryics.splitlines()\n",
    "    \n",
    "    #Removing empty lines\n",
    "    song_lryics = list(filter(None, song_lryics))\n",
    "\n",
    "    # Joining back lines\n",
    "    song_lryics = '\\n'.join(song_lryics)\n",
    "\n",
    "    # Appending to songs corpus\n",
    "    lyrics_corpus.append(song_lryics)\n",
    "\n",
    "lyrics_corpus = '\\n'.join(lyrics_corpus)\n",
    "lyrics_corpus = lyrics_corpus.split('\\n')\n",
    "lyrics_corpus = [line + ' \\n' for line in lyrics_corpus]"
   ]
  },
  {
   "cell_type": "code",
   "execution_count": 53,
   "metadata": {},
   "outputs": [
    {
     "data": {
      "text/plain": [
       "['Someone said they left together \\n',\n",
       " 'I ran out the door to get her \\n',\n",
       " 'She was holding hands with Trevor \\n']"
      ]
     },
     "execution_count": 53,
     "metadata": {},
     "output_type": "execute_result"
    }
   ],
   "source": [
    "lyrics_corpus[:3]"
   ]
  },
  {
   "cell_type": "code",
   "execution_count": 55,
   "metadata": {},
   "outputs": [
    {
     "name": "stdout",
     "output_type": "stream",
     "text": [
      "Total words in tokenizer:2000\n"
     ]
    }
   ],
   "source": [
    "from tensorflow.keras.preprocessing.text import Tokenizer\n",
    "\n",
    "# Making tokenizer\n",
    "tokenizer = Tokenizer(num_words=2000, oov_token=\"OOV\",\n",
    "                      filters='!\"#$%&()*+,-./:;<=>?@[\\\\]^_`{|}~\\t')\n",
    "\n",
    "# Fitting corpus\n",
    "tokenizer.fit_on_texts(lyrics_corpus)\n",
    "\n",
    "\n",
    "total_words = tokenizer.num_words\n",
    "print(f\"Total words in tokenizer:{total_words}\")\n",
    "\n",
    "# Saving tokenizer\n",
    "with open('models\\\\tame_impala_tokenizer.pickle', 'wb') as handle:\n",
    "    pickle.dump(tokenizer, handle, protocol=pickle.HIGHEST_PROTOCOL)"
   ]
  },
  {
   "cell_type": "code",
   "execution_count": 58,
   "metadata": {},
   "outputs": [],
   "source": [
    "#To Load the tokenizer\n",
    "with open('models\\\\tame_impala_tokenizer.pickle', 'rb') as handle:\n",
    "    tokenizer = pickle.load(handle)\n",
    "    total_words = tokenizer.num_words"
   ]
  },
  {
   "cell_type": "markdown",
   "metadata": {},
   "source": [
    "## Model architecture"
   ]
  },
  {
   "cell_type": "code",
   "execution_count": null,
   "metadata": {},
   "outputs": [],
   "source": [
    "# Bring in the sequential api for the generator and discriminator\n",
    "from tensorflow.keras.models import Sequential\n",
    "# Bring in the layers for the neural network\n",
    "from tensorflow.keras.layers import Conv2D, Dense, Flatten, Reshape, LeakyReLU, Dropout, UpSampling2D"
   ]
  },
  {
   "cell_type": "markdown",
   "metadata": {},
   "source": [
    "### Generator"
   ]
  },
  {
   "cell_type": "markdown",
   "metadata": {},
   "source": [
    "### Descriminator"
   ]
  },
  {
   "cell_type": "markdown",
   "metadata": {},
   "source": [
    "## Training loop"
   ]
  },
  {
   "cell_type": "markdown",
   "metadata": {},
   "source": []
  },
  {
   "cell_type": "markdown",
   "metadata": {},
   "source": [
    "## Generating the output"
   ]
  }
 ],
 "metadata": {
  "kernelspec": {
   "display_name": "env",
   "language": "python",
   "name": "python3"
  },
  "language_info": {
   "codemirror_mode": {
    "name": "ipython",
    "version": 3
   },
   "file_extension": ".py",
   "mimetype": "text/x-python",
   "name": "python",
   "nbconvert_exporter": "python",
   "pygments_lexer": "ipython3",
   "version": "3.10.5"
  },
  "orig_nbformat": 4
 },
 "nbformat": 4,
 "nbformat_minor": 2
}
